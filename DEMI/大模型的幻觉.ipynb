{
 "cells": [
  {
   "cell_type": "markdown",
   "id": "553532ff",
   "metadata": {},
   "source": [
    "# 大模型的幻觉\n",
    "---\n",
    "- 定义：大模型一本正经的胡说八道，生成不符合事实或毫无根据的信息  \n",
    "- 幻觉类型：  \n",
    "    1. 事实性幻觉：与事实不符或编造的内容  \n",
    "        e.g:  \n",
    "        **问题**：企鹅会飞吗？  \n",
    "        **回答**：企鹅是鸟类，<font color = red>所以他们会飞</font>，但更适合游泳  \n",
    "    2. **忠实性幻觉：与上下文不一致的内容**  \n",
    "        e.g:  \n",
    "        **问题**：秦始皇和康熙帝谁更早出生？  \n",
    "        **回答**：康熙帝（1654年）比秦始皇（前259年）早约1900年  "
   ]
  },
  {
   "cell_type": "markdown",
   "id": "ba39b475",
   "metadata": {},
   "source": [
    "## 忠实性幻觉检测  \n",
    "---\n",
    "- 忠实性幻觉检测旨在识别出大模型回答中与上下文不一致的幻觉内容  \n",
    "- 形式化定义：给定上下文doc和一个大模型的回复c, 判断该回复与上下文doc的一致性分数  \n",
    "<img src=\"../img/14.png\">  \n",
    "- 流派：  \n",
    "    - 基于**参考对比**的幻觉检测：文本层面的一致性比较  \n",
    "    - 基于**模型状态**的幻觉检测:根据模型状态（内部参数、输出一致性等）判断"
   ]
  }
 ],
 "metadata": {
  "kernelspec": {
   "display_name": "Python 3 (ipykernel)",
   "language": "python",
   "name": "python3"
  },
  "language_info": {
   "codemirror_mode": {
    "name": "ipython",
    "version": 3
   },
   "file_extension": ".py",
   "mimetype": "text/x-python",
   "name": "python",
   "nbconvert_exporter": "python",
   "pygments_lexer": "ipython3",
   "version": "3.9.21"
  }
 },
 "nbformat": 4,
 "nbformat_minor": 5
}
