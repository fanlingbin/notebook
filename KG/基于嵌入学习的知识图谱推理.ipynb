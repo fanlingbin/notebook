{
 "cells": [
  {
   "cell_type": "markdown",
   "id": "350d5f83",
   "metadata": {},
   "source": [
    "# 知识图谱嵌入模型TransE  \n",
    "--- \n",
    "<img src=\"../img/17.png\">  \n",
    "\n",
    "---"
   ]
  },
  {
   "cell_type": "markdown",
   "id": "66ac927c",
   "metadata": {},
   "source": [
    "# 预测问题 与 推理评价  \n",
    "---\n",
    "<img src=\"../img/18.png\" align = left width = 300>  \n",
    "\n",
    "\n",
    "- 关系推理的评价指标  \n",
    "    - Hit@n: 所有预测样本中排名在n以内的比例，n常用的取值为1, 3， 10  \n",
    "    - MR：Mean Rank 所有预测样本的平均排名  \n",
    "    - MRR：Mean Reciprocal Rank 先对所有预测样本的排名求倒数，然后求平均  \n",
    "    "
   ]
  },
  {
   "cell_type": "markdown",
   "id": "a9871330",
   "metadata": {},
   "source": [
    "# 符号推理 VS 向量推理  \n",
    "---\n",
    "- 符号推理  \n",
    "    - 显示知识表示，一般需要人工定义  \n",
    "    - 推理过程依赖符号匹配，更适合精确推理场景  \n",
    "    - 需要人工定义推理逻辑  \n",
    "    - 无可解释问题\n",
    "- 向量推理  \n",
    "    - 捕获隐式知识，通过机器学习出的表和四，需要训练语料  \n",
    "    - 推理过程通过向量计算完成，适合不确定推理场景  \n",
    "    - 不需要人工定义推理逻辑  \n",
    "    - 丢失可解释性"
   ]
  },
  {
   "cell_type": "markdown",
   "id": "08b0505c",
   "metadata": {},
   "source": [
    "## TransE 的问题  \n",
    "---\n",
    "- 无法处理一对多、多对一和多对多问题，无法对尾实体进行区分  \n",
    "<img src=\"../img/19.png\">  \n"
   ]
  },
  {
   "cell_type": "markdown",
   "id": "60b51e63",
   "metadata": {},
   "source": [
    "## TransH  \n",
    "---\n",
    "- 利用关系r对头尾结点的表示进行区分（同一结点在处理不同关系的推理时，可能需要的表示是不一样的）\n",
    "<img src=\"../img/20.png\"> \n",
    "\n",
    "- 将向量h 和向量t 投影到一个超平面，获得与关系有关的新表示，再用新的表示进行加法计算  "
   ]
  },
  {
   "cell_type": "markdown",
   "id": "f8f8069a",
   "metadata": {},
   "source": [
    "## TransR  \n",
    "---\n",
    "- 增加一个M_r矩阵刻画关系空间，所有的头尾结点表示，都通过与M_r矩阵相乘获得关系空间的表示，再进行加法计算  \n",
    "<img src=\"../img/21.png\">"
   ]
  },
  {
   "cell_type": "markdown",
   "id": "435be260",
   "metadata": {},
   "source": [
    "## TransD  \n",
    "---\n",
    "- 通过一个动态映射矩阵获得关系空间的头尾结点表示，然后再进行加法计算  \n",
    "<img src=\"../img/22.png\">  \n",
    "\n",
    "- 为区分和处理复杂的关系语义，不得不增加新的参数，参数越多，训练代价也会增加"
   ]
  },
  {
   "cell_type": "markdown",
   "id": "9d2aef83",
   "metadata": {},
   "source": [
    "# DistMult(基于线性变化的学习模型)  \n",
    "---\n",
    "<img src=\"../img/23.png\">"
   ]
  },
  {
   "cell_type": "markdown",
   "id": "7ff51032",
   "metadata": {},
   "source": [
    "# Analogy(利用类比推理的思想做知识图谱推理)"
   ]
  }
 ],
 "metadata": {
  "kernelspec": {
   "display_name": "Python 3 (ipykernel)",
   "language": "python",
   "name": "python3"
  },
  "language_info": {
   "codemirror_mode": {
    "name": "ipython",
    "version": 3
   },
   "file_extension": ".py",
   "mimetype": "text/x-python",
   "name": "python",
   "nbconvert_exporter": "python",
   "pygments_lexer": "ipython3",
   "version": "3.9.21"
  }
 },
 "nbformat": 4,
 "nbformat_minor": 5
}
