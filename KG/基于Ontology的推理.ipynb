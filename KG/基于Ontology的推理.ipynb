{
 "cells": [
  {
   "cell_type": "markdown",
   "id": "5d09dedc",
   "metadata": {},
   "source": [
    "# OWL的描述逻辑语义及语法\n",
    "---\n",
    "<img src=\"../img/7.png\">  \n",
    "<h4 align=center>通过语义来保证推理的正确和完备性</h4>  \n",
    "\n",
    "---\n",
    "## OWL本体推理：概念包含推理\n",
    "---\n",
    "- 包含关系推理是定义在Tbox上面的推理，一般基于Tbox中的Axiom推断两个概念之间是否存在包含关系  \n",
    "    e.g Mother ⊆ Women， Women⊆ Person --> Mother ⊆ Person\n",
    "---\n",
    "## OWL本体推理：实例检测推理\n",
    "---\n",
    "- 实例检测推理主要用于计算符合某个概念或关系定义的所有实例  \n",
    "<img src=\"../img/8.png\">  \n"
   ]
  },
  {
   "cell_type": "markdown",
   "id": "a3fb8001",
   "metadata": {},
   "source": [
    "# Tableaux算法\n",
    "---\n",
    "- OWL本体上实现的各种推理都可以用Tableaux算法来实现  \n",
    "- Tablaux算法的基本思想是通过一系列规则构建Abox，以检测知识库的可满足性  \n",
    "- Tableaux算法将概念包含、实例检测等推理都转化为可满足性检测问题来实现  \n",
    "- Tableaux算法检查可满足性的基本思想类似于一阶逻辑的归结反驳  \n",
    "---\n",
    "## Tableaux运算规则  \n",
    "---\n",
    "<img src=\"../img/9.png\">"
   ]
  }
 ],
 "metadata": {
  "kernelspec": {
   "display_name": "Python 3 (ipykernel)",
   "language": "python",
   "name": "python3"
  },
  "language_info": {
   "codemirror_mode": {
    "name": "ipython",
    "version": 3
   },
   "file_extension": ".py",
   "mimetype": "text/x-python",
   "name": "python",
   "nbconvert_exporter": "python",
   "pygments_lexer": "ipython3",
   "version": "3.9.21"
  }
 },
 "nbformat": 4,
 "nbformat_minor": 5
}
