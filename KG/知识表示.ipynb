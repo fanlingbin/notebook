{
 "cells": [
  {
   "cell_type": "markdown",
   "id": "d3d81896",
   "metadata": {},
   "source": [
    "# 知识表示（KR）\n",
    "---\n",
    "- 知识表示就是用易于计算机处理的方式来描述人脑的知识的方法  \n",
    "- 知识表示不是数据格式，不等同于数据结构、也不是编程语言，对于人工智能而言，数据与知识的区别在于KR\\支持推理  "
   ]
  }
 ],
 "metadata": {
  "kernelspec": {
   "display_name": "Python 3 (ipykernel)",
   "language": "python",
   "name": "python3"
  },
  "language_info": {
   "codemirror_mode": {
    "name": "ipython",
    "version": 3
   },
   "file_extension": ".py",
   "mimetype": "text/x-python",
   "name": "python",
   "nbconvert_exporter": "python",
   "pygments_lexer": "ipython3",
   "version": "3.9.21"
  }
 },
 "nbformat": 4,
 "nbformat_minor": 5
}
